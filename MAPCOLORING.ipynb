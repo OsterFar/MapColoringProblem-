{
  "nbformat": 4,
  "nbformat_minor": 0,
  "metadata": {
    "colab": {
      "name": "MAPCOLORING.ipynb",
      "provenance": [],
      "collapsed_sections": [],
      "authorship_tag": "ABX9TyO2MCgrymNHIZJSS6JzQEa1"
    },
    "kernelspec": {
      "name": "python3",
      "display_name": "Python 3"
    },
    "language_info": {
      "name": "python"
    }
  },
  "cells": [
    {
      "cell_type": "markdown",
      "metadata": {
        "id": "COYZDdJuNFqR"
      },
      "source": [
        "# Graph Function "
      ]
    },
    {
      "cell_type": "code",
      "metadata": {
        "id": "Tmo8dFP902gQ"
      },
      "source": [
        "#Adding a vertex\n",
        "#Adding a vertex is straight forward where we add another additional key to the graph dictionary.\n",
        "class graph:\n",
        "\n",
        "    def __init__(self,gdict=None):\n",
        "        if gdict is None:\n",
        "            gdict = {}\n",
        "        self.gdict = gdict\n",
        "\n",
        "    def getVertices(self):\n",
        "        return list(self.gdict.keys())\n",
        "\n",
        "# Add the vertex as a key\n",
        "    def addVertex(self, vrtx):\n",
        "        if vrtx not in self.gdict:\n",
        "            self.gdict[vrtx] = []\n",
        "\n"
      ],
      "execution_count": null,
      "outputs": []
    },
    {
      "cell_type": "markdown",
      "metadata": {
        "id": "LjhvppaONDc_"
      },
      "source": [
        "# MRV FUNCTION"
      ]
    },
    {
      "cell_type": "code",
      "metadata": {
        "id": "vAcdrmQN5j1N"
      },
      "source": [
        "#MRV (minimum remaining value )\n",
        "import random\n",
        "def MRV(map_color_pak , color_map,len_pak):\n",
        "  #logic here for algorithm\n",
        "  visited = []\n",
        "\n",
        "  #Loop untill all the province visited \n",
        "  for i in range(len(color_map.gdict)) :\n",
        "    #storing leng of remaining CSV COlors   \n",
        "    len_pak['Sindh'] = len( color_map.gdict['Sindh'] )\n",
        "    len_pak['Punjab'] = len( color_map.gdict['Punjab'] )\n",
        "    len_pak['Balochistan'] = len( color_map.gdict['Balochistan'] )\n",
        "    len_pak['Kashmir'] = len( color_map.gdict['Kashmir'] )\n",
        "    len_pak['NWFP'] = len( color_map.gdict['NWFP'] )\n",
        "    \n",
        "    #sorting the list \n",
        "    len_pak = dict(sorted(len_pak.items(), key=lambda item: item[1]))\n",
        "    #making the miniumum value \n",
        "    province_min = list(len_pak.keys())[0]\n",
        "\n",
        "    #Picking Random COlor from the remaining set of constraint satisfied color list \n",
        "    color_map.gdict[province_min] = random.choice( color_map.gdict[province_min] )\n",
        "    #removing that color from the corresponding provinces\n",
        "    neighbours =  map_color_pak.gdict[province_min]\n",
        "    \n",
        "    #Appening the list of visited province \n",
        "    visited.append(province_min)\n",
        "    \n",
        "    for neighbour in neighbours :\n",
        "      #Remove color\n",
        "       #visited.append(color_map.gdict[province_min])\n",
        "       if map_color_pak.gdict[neighbour] not in visited:\n",
        "         #print(neighbour,color_map.gdict[neighbour],color_map.gdict[province_min])\n",
        "         if  color_map.gdict[province_min] in color_map.gdict[neighbour] :\n",
        "           # print(neighbour)\n",
        "            color_map.gdict[neighbour].remove(color_map.gdict[province_min])\n",
        "\n",
        "    #removing the item from the list as it is already done with color \n",
        "    len_pak.pop(province_min)\n",
        "    \n",
        "  print(color_map.gdict)\n",
        "\n",
        "\n",
        "    \n"
      ],
      "execution_count": null,
      "outputs": []
    },
    {
      "cell_type": "code",
      "metadata": {
        "id": "vG0NN3yom4Sm"
      },
      "source": [
        ""
      ],
      "execution_count": null,
      "outputs": []
    },
    {
      "cell_type": "markdown",
      "metadata": {
        "id": "ogg21rmgcscV"
      },
      "source": [
        "# MCV"
      ]
    },
    {
      "cell_type": "code",
      "metadata": {
        "id": "NsmoUpUdcvYc"
      },
      "source": [
        "#MRV (minimum remaining value )\n",
        "import random\n",
        "def MCV(map_color_pak , color_map,len_pak):\n",
        "  #logic here for algorithm\n",
        "  visited = []\n",
        "  result = {}\n",
        "  len_pak['Sindh'] = len( map_color_pak.gdict['Sindh'] )\n",
        "  len_pak['Punjab'] = len( map_color_pak.gdict['Punjab'] )\n",
        "  len_pak['Balochistan'] = len( map_color_pak.gdict['Balochistan'] )\n",
        "  len_pak['Kashmir'] = len( map_color_pak.gdict['Kashmir'] )\n",
        "  len_pak['NWFP'] = len( map_color_pak.gdict['NWFP'] )\n",
        "  len_pak = dict(sorted(len_pak.items(), key=lambda item: item[1]))\n",
        "  \n",
        "  print(\"SEQUENCE--\")\n",
        "  for i in range(len(color_map.gdict)) :\n",
        "  #sorting the list \n",
        "    \n",
        "    #making the miniumum value \n",
        "    province_max = list(len_pak.keys())[i]\n",
        "   \n",
        "    print(province_max)\n",
        "    #Picking Random COlor from the remaining set of constraint satisfied color list \n",
        "    if len( color_map.gdict[province_max] ) > 0  :\n",
        "      color_map.gdict[province_max] = random.choice( color_map.gdict[province_max] )\n",
        "\n",
        "    #appending the result dictiontary which later return the resultant map with color \n",
        "    result.update({province_max : color_map.gdict[province_max]})\n",
        "    #removing that color from the corresponding provinces\n",
        "   \n",
        "    neighbours =  map_color_pak.gdict[province_max]\n",
        "    \n",
        "    \n",
        "    #appending the result visited \n",
        "    visited.append(province_max)\n",
        "\n",
        "    #Removing province from the neighbours\n",
        "    for neighbour in neighbours :\n",
        "       #checking whether neighbour is already visited ?\n",
        "       if neighbour not in visited:\n",
        "\n",
        "         #checking either neighbour have province color or not ?\n",
        "         if  color_map.gdict[province_max] in color_map.gdict[neighbour] :\n",
        "           \n",
        "            color_map.gdict[neighbour].remove(color_map.gdict[province_max])\n",
        "    map_color_pak.gdict.pop(province_max)\n",
        "\n",
        "  print(color_map.gdict)\n",
        "\n",
        "\n",
        "    \n"
      ],
      "execution_count": null,
      "outputs": []
    },
    {
      "cell_type": "markdown",
      "metadata": {
        "id": "1yMmRms0NBBP"
      },
      "source": [
        "# Main "
      ]
    },
    {
      "cell_type": "code",
      "metadata": {
        "colab": {
          "base_uri": "https://localhost:8080/"
        },
        "id": "IffVXCYI5qEc",
        "outputId": "ecc445ce-4764-41c0-9e65-1e8dd1c4ab0c"
      },
      "source": [
        "# Create the dictionary with graph elements\n",
        "pakistan_map = { \"Sindh\" : [\"Punjab\",\"Balochistan\"],\n",
        "                \"Punjab\" : [\"NWFP\", \"Sindh\",\"Kashmir\"],\n",
        "                \"Balochistan\" : [\"NWFP\", \"Sindh\"],\n",
        "                \"Kashmir\" : [\"Punjab\",\"NWFP\"],\n",
        "                \"NWFP\" : [\"Kashmir\",\"Balochistan\",\"Punjab\"]\n",
        "                }\n",
        "#We are taking RED BLUE GREEN\n",
        "Color = { \"Sindh\" : [\"GREEN\",\"BLUE\",\"RED\"],\n",
        "          \"Punjab\" : [\"GREEN\",\"BLUE\",\"RED\"],\n",
        "          \"Balochistan\" : [\"GREEN\",\"BLUE\",\"RED\"],\n",
        "          \"Kashmir\" : [\"GREEN\",\"BLUE\",\"RED\"],\n",
        "          \"NWFP\" : [\"GREEN\",\"BLUE\",\"RED\"]\n",
        "          }\n",
        "\n",
        "#Declaring the graph instance of map and its corresponding colors\n",
        "\n",
        "Map_coloring_Pak = graph(pakistan_map)\n",
        "Color_option = graph(Color)\n",
        "\n",
        "#Declaring the dict \n",
        "len_pak = { \"Sindh\" : 0,\n",
        "            \"Punjab\" :0,\n",
        "            \"Balochistan\" : 0,\n",
        "            \"Kashmir\" :0,\n",
        "            \"NWFP\" : 0\n",
        "  \n",
        "            }\n",
        "\n",
        "#Only call one function at each run\n",
        "\n",
        "# print(\"----------------------MRV--------------------------------\")\n",
        "# MRV(Map_coloring_Pak,Color_option,len_pak)\n",
        "\n",
        "\n",
        "print(\"----------------------MCV--------------------------------\")\n",
        "MCV(Map_coloring_Pak,Color_option,len_pak)"
      ],
      "execution_count": null,
      "outputs": [
        {
          "output_type": "stream",
          "text": [
            "----------------------MCV--------------------------------\n",
            "SEQUENCE--\n",
            "Sindh\n",
            "Balochistan\n",
            "Kashmir\n",
            "Punjab\n",
            "NWFP\n",
            "{'Sindh': 'BLUE', 'Punjab': 'GREEN', 'Balochistan': 'RED', 'Kashmir': 'BLUE', 'NWFP': []}\n"
          ],
          "name": "stdout"
        }
      ]
    },
    {
      "cell_type": "code",
      "metadata": {
        "id": "ShmmoL9WA0rx"
      },
      "source": [
        ""
      ],
      "execution_count": null,
      "outputs": []
    }
  ]
}